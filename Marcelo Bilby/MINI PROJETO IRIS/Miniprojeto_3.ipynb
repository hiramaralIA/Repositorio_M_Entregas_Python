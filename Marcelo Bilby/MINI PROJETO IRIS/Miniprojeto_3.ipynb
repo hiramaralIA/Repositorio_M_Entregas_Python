{
  "nbformat": 4,
  "nbformat_minor": 0,
  "metadata": {
    "colab": {
      "name": "Miniprojeto 3.ipynb",
      "provenance": [],
      "collapsed_sections": []
    },
    "kernelspec": {
      "name": "python3",
      "display_name": "Python 3"
    },
    "language_info": {
      "name": "python"
    }
  },
  "cells": [
    {
      "cell_type": "markdown",
      "source": [
        "# Imports"
      ],
      "metadata": {
        "id": "veFCpRbBMwfS"
      }
    },
    {
      "cell_type": "code",
      "execution_count": null,
      "metadata": {
        "id": "ryKcMWepMNEq"
      },
      "outputs": [],
      "source": [
        "import pandas as pd\n",
        "import numpy as np\n",
        "import matplotlib.pyplot as plt\n",
        "import seaborn as sns; sns.set()\n",
        "from sklearn.naive_bayes import GaussianNB\n",
        "from sklearn.metrics import confusion_matrix\n",
        "from sklearn.metrics import classification_report\n",
        "from sklearn.model_selection import train_test_split\n",
        "from sklearn.metrics import accuracy_score"
      ]
    },
    {
      "cell_type": "markdown",
      "source": [
        "# Base de dados"
      ],
      "metadata": {
        "id": "x6Cz5KdFM1n6"
      }
    },
    {
      "cell_type": "code",
      "source": [
        "iris = \"https://raw.githubusercontent.com/hiramaralIA/Repositorio_M_Entregas_Python/main/Marcelo%20Bilby/MINI%20PROJETO%20IRIS/Base%20de%20dados/Iris_figura_excel%20-%20Data.csv\"\n",
        "base_iris = pd.read_csv(iris)\n",
        "base_iris"
      ],
      "metadata": {
        "colab": {
          "base_uri": "https://localhost:8080/",
          "height": 424
        },
        "id": "hnZ-chICM4wA",
        "outputId": "bd2fee9b-3863-42e0-f432-1653953e3c83"
      },
      "execution_count": null,
      "outputs": [
        {
          "output_type": "execute_result",
          "data": {
            "text/plain": [
              "     index  Species_No Petal_width Petal_length Sepal_width Sepal_length  \\\n",
              "0        1           1         0,2          1,4         3,5          5,1   \n",
              "1        1           1         0,2          1,4           3          4,9   \n",
              "2        1           1         0,2          1,3         3,2          4,7   \n",
              "3        1           1         0,2          1,5         3,1          4,6   \n",
              "4        1           1         0,2          1,4         3,6            5   \n",
              "..     ...         ...         ...          ...         ...          ...   \n",
              "145      3           3         2,3          5,2           3          6,7   \n",
              "146      3           3         1,9            5         2,5          6,3   \n",
              "147      3           3           2          5,2           3          6,5   \n",
              "148      3           3         2,3          5,4         3,4          6,2   \n",
              "149      3           3         1,8          5,1           3          5,9   \n",
              "\n",
              "          class  \n",
              "0        Setosa  \n",
              "1        Setosa  \n",
              "2        Setosa  \n",
              "3        Setosa  \n",
              "4        Setosa  \n",
              "..          ...  \n",
              "145   Verginica  \n",
              "146   Verginica  \n",
              "147   Verginica  \n",
              "148   Verginica  \n",
              "149   Verginica  \n",
              "\n",
              "[150 rows x 7 columns]"
            ],
            "text/html": [
              "\n",
              "  <div id=\"df-74a1a716-3457-4291-85b2-72a912b6bae3\">\n",
              "    <div class=\"colab-df-container\">\n",
              "      <div>\n",
              "<style scoped>\n",
              "    .dataframe tbody tr th:only-of-type {\n",
              "        vertical-align: middle;\n",
              "    }\n",
              "\n",
              "    .dataframe tbody tr th {\n",
              "        vertical-align: top;\n",
              "    }\n",
              "\n",
              "    .dataframe thead th {\n",
              "        text-align: right;\n",
              "    }\n",
              "</style>\n",
              "<table border=\"1\" class=\"dataframe\">\n",
              "  <thead>\n",
              "    <tr style=\"text-align: right;\">\n",
              "      <th></th>\n",
              "      <th>index</th>\n",
              "      <th>Species_No</th>\n",
              "      <th>Petal_width</th>\n",
              "      <th>Petal_length</th>\n",
              "      <th>Sepal_width</th>\n",
              "      <th>Sepal_length</th>\n",
              "      <th>class</th>\n",
              "    </tr>\n",
              "  </thead>\n",
              "  <tbody>\n",
              "    <tr>\n",
              "      <th>0</th>\n",
              "      <td>1</td>\n",
              "      <td>1</td>\n",
              "      <td>0,2</td>\n",
              "      <td>1,4</td>\n",
              "      <td>3,5</td>\n",
              "      <td>5,1</td>\n",
              "      <td>Setosa</td>\n",
              "    </tr>\n",
              "    <tr>\n",
              "      <th>1</th>\n",
              "      <td>1</td>\n",
              "      <td>1</td>\n",
              "      <td>0,2</td>\n",
              "      <td>1,4</td>\n",
              "      <td>3</td>\n",
              "      <td>4,9</td>\n",
              "      <td>Setosa</td>\n",
              "    </tr>\n",
              "    <tr>\n",
              "      <th>2</th>\n",
              "      <td>1</td>\n",
              "      <td>1</td>\n",
              "      <td>0,2</td>\n",
              "      <td>1,3</td>\n",
              "      <td>3,2</td>\n",
              "      <td>4,7</td>\n",
              "      <td>Setosa</td>\n",
              "    </tr>\n",
              "    <tr>\n",
              "      <th>3</th>\n",
              "      <td>1</td>\n",
              "      <td>1</td>\n",
              "      <td>0,2</td>\n",
              "      <td>1,5</td>\n",
              "      <td>3,1</td>\n",
              "      <td>4,6</td>\n",
              "      <td>Setosa</td>\n",
              "    </tr>\n",
              "    <tr>\n",
              "      <th>4</th>\n",
              "      <td>1</td>\n",
              "      <td>1</td>\n",
              "      <td>0,2</td>\n",
              "      <td>1,4</td>\n",
              "      <td>3,6</td>\n",
              "      <td>5</td>\n",
              "      <td>Setosa</td>\n",
              "    </tr>\n",
              "    <tr>\n",
              "      <th>...</th>\n",
              "      <td>...</td>\n",
              "      <td>...</td>\n",
              "      <td>...</td>\n",
              "      <td>...</td>\n",
              "      <td>...</td>\n",
              "      <td>...</td>\n",
              "      <td>...</td>\n",
              "    </tr>\n",
              "    <tr>\n",
              "      <th>145</th>\n",
              "      <td>3</td>\n",
              "      <td>3</td>\n",
              "      <td>2,3</td>\n",
              "      <td>5,2</td>\n",
              "      <td>3</td>\n",
              "      <td>6,7</td>\n",
              "      <td>Verginica</td>\n",
              "    </tr>\n",
              "    <tr>\n",
              "      <th>146</th>\n",
              "      <td>3</td>\n",
              "      <td>3</td>\n",
              "      <td>1,9</td>\n",
              "      <td>5</td>\n",
              "      <td>2,5</td>\n",
              "      <td>6,3</td>\n",
              "      <td>Verginica</td>\n",
              "    </tr>\n",
              "    <tr>\n",
              "      <th>147</th>\n",
              "      <td>3</td>\n",
              "      <td>3</td>\n",
              "      <td>2</td>\n",
              "      <td>5,2</td>\n",
              "      <td>3</td>\n",
              "      <td>6,5</td>\n",
              "      <td>Verginica</td>\n",
              "    </tr>\n",
              "    <tr>\n",
              "      <th>148</th>\n",
              "      <td>3</td>\n",
              "      <td>3</td>\n",
              "      <td>2,3</td>\n",
              "      <td>5,4</td>\n",
              "      <td>3,4</td>\n",
              "      <td>6,2</td>\n",
              "      <td>Verginica</td>\n",
              "    </tr>\n",
              "    <tr>\n",
              "      <th>149</th>\n",
              "      <td>3</td>\n",
              "      <td>3</td>\n",
              "      <td>1,8</td>\n",
              "      <td>5,1</td>\n",
              "      <td>3</td>\n",
              "      <td>5,9</td>\n",
              "      <td>Verginica</td>\n",
              "    </tr>\n",
              "  </tbody>\n",
              "</table>\n",
              "<p>150 rows × 7 columns</p>\n",
              "</div>\n",
              "      <button class=\"colab-df-convert\" onclick=\"convertToInteractive('df-74a1a716-3457-4291-85b2-72a912b6bae3')\"\n",
              "              title=\"Convert this dataframe to an interactive table.\"\n",
              "              style=\"display:none;\">\n",
              "        \n",
              "  <svg xmlns=\"http://www.w3.org/2000/svg\" height=\"24px\"viewBox=\"0 0 24 24\"\n",
              "       width=\"24px\">\n",
              "    <path d=\"M0 0h24v24H0V0z\" fill=\"none\"/>\n",
              "    <path d=\"M18.56 5.44l.94 2.06.94-2.06 2.06-.94-2.06-.94-.94-2.06-.94 2.06-2.06.94zm-11 1L8.5 8.5l.94-2.06 2.06-.94-2.06-.94L8.5 2.5l-.94 2.06-2.06.94zm10 10l.94 2.06.94-2.06 2.06-.94-2.06-.94-.94-2.06-.94 2.06-2.06.94z\"/><path d=\"M17.41 7.96l-1.37-1.37c-.4-.4-.92-.59-1.43-.59-.52 0-1.04.2-1.43.59L10.3 9.45l-7.72 7.72c-.78.78-.78 2.05 0 2.83L4 21.41c.39.39.9.59 1.41.59.51 0 1.02-.2 1.41-.59l7.78-7.78 2.81-2.81c.8-.78.8-2.07 0-2.86zM5.41 20L4 18.59l7.72-7.72 1.47 1.35L5.41 20z\"/>\n",
              "  </svg>\n",
              "      </button>\n",
              "      \n",
              "  <style>\n",
              "    .colab-df-container {\n",
              "      display:flex;\n",
              "      flex-wrap:wrap;\n",
              "      gap: 12px;\n",
              "    }\n",
              "\n",
              "    .colab-df-convert {\n",
              "      background-color: #E8F0FE;\n",
              "      border: none;\n",
              "      border-radius: 50%;\n",
              "      cursor: pointer;\n",
              "      display: none;\n",
              "      fill: #1967D2;\n",
              "      height: 32px;\n",
              "      padding: 0 0 0 0;\n",
              "      width: 32px;\n",
              "    }\n",
              "\n",
              "    .colab-df-convert:hover {\n",
              "      background-color: #E2EBFA;\n",
              "      box-shadow: 0px 1px 2px rgba(60, 64, 67, 0.3), 0px 1px 3px 1px rgba(60, 64, 67, 0.15);\n",
              "      fill: #174EA6;\n",
              "    }\n",
              "\n",
              "    [theme=dark] .colab-df-convert {\n",
              "      background-color: #3B4455;\n",
              "      fill: #D2E3FC;\n",
              "    }\n",
              "\n",
              "    [theme=dark] .colab-df-convert:hover {\n",
              "      background-color: #434B5C;\n",
              "      box-shadow: 0px 1px 3px 1px rgba(0, 0, 0, 0.15);\n",
              "      filter: drop-shadow(0px 1px 2px rgba(0, 0, 0, 0.3));\n",
              "      fill: #FFFFFF;\n",
              "    }\n",
              "  </style>\n",
              "\n",
              "      <script>\n",
              "        const buttonEl =\n",
              "          document.querySelector('#df-74a1a716-3457-4291-85b2-72a912b6bae3 button.colab-df-convert');\n",
              "        buttonEl.style.display =\n",
              "          google.colab.kernel.accessAllowed ? 'block' : 'none';\n",
              "\n",
              "        async function convertToInteractive(key) {\n",
              "          const element = document.querySelector('#df-74a1a716-3457-4291-85b2-72a912b6bae3');\n",
              "          const dataTable =\n",
              "            await google.colab.kernel.invokeFunction('convertToInteractive',\n",
              "                                                     [key], {});\n",
              "          if (!dataTable) return;\n",
              "\n",
              "          const docLinkHtml = 'Like what you see? Visit the ' +\n",
              "            '<a target=\"_blank\" href=https://colab.research.google.com/notebooks/data_table.ipynb>data table notebook</a>'\n",
              "            + ' to learn more about interactive tables.';\n",
              "          element.innerHTML = '';\n",
              "          dataTable['output_type'] = 'display_data';\n",
              "          await google.colab.output.renderOutput(dataTable, element);\n",
              "          const docLink = document.createElement('div');\n",
              "          docLink.innerHTML = docLinkHtml;\n",
              "          element.appendChild(docLink);\n",
              "        }\n",
              "      </script>\n",
              "    </div>\n",
              "  </div>\n",
              "  "
            ]
          },
          "metadata": {},
          "execution_count": 33
        }
      ]
    },
    {
      "cell_type": "markdown",
      "source": [
        "#Alterando os valores da base de \", \" para \".\""
      ],
      "metadata": {
        "id": "xQtrtxvTekDv"
      }
    },
    {
      "cell_type": "markdown",
      "source": [
        "# Petal Width"
      ],
      "metadata": {
        "id": "tbTkyRVFfbZE"
      }
    },
    {
      "cell_type": "code",
      "source": [
        "for linha in base_iris['Petal_width']:\n",
        "  modificador = linha.replace(',', '.')\n",
        "  base_iris.loc[base_iris['Petal_width'] == linha, 'Petal_width'] = modificador"
      ],
      "metadata": {
        "id": "6BATMcfsfeKr"
      },
      "execution_count": null,
      "outputs": []
    },
    {
      "cell_type": "markdown",
      "source": [
        "# Petal Length"
      ],
      "metadata": {
        "id": "ClEDd0k9e4M4"
      }
    },
    {
      "cell_type": "code",
      "source": [
        "for linha in base_iris['Petal_length']:\n",
        "  modificador = linha.replace(',', '.')\n",
        "  base_iris.loc[base_iris['Petal_length'] == linha, 'Petal_length'] = modificador"
      ],
      "metadata": {
        "id": "sQddX2pSRjGr"
      },
      "execution_count": null,
      "outputs": []
    },
    {
      "cell_type": "markdown",
      "source": [
        "# Sepal Width\n"
      ],
      "metadata": {
        "id": "HVwmzMggf4DS"
      }
    },
    {
      "cell_type": "code",
      "source": [
        "for linha in base_iris['Sepal_width']:\n",
        "  modificador = linha.replace(',', '.')\n",
        "  base_iris.loc[base_iris['Sepal_width'] == linha, 'Sepal_width'] = modificador"
      ],
      "metadata": {
        "id": "gsWxZI4ZgHRe"
      },
      "execution_count": null,
      "outputs": []
    },
    {
      "cell_type": "markdown",
      "source": [
        "# Sepal Length"
      ],
      "metadata": {
        "id": "5G4Hm-MogU1q"
      }
    },
    {
      "cell_type": "code",
      "source": [
        "for linha in base_iris['Sepal_length']:\n",
        "  modificador = linha.replace(',', '.')\n",
        "  base_iris.loc[base_iris['Sepal_length'] == linha, 'Sepal_length'] = modificador"
      ],
      "metadata": {
        "id": "tQRawRaZgXrz"
      },
      "execution_count": null,
      "outputs": []
    },
    {
      "cell_type": "code",
      "source": [
        "base_iris"
      ],
      "metadata": {
        "colab": {
          "base_uri": "https://localhost:8080/",
          "height": 424
        },
        "id": "QUR2JBwufmVB",
        "outputId": "15ce816a-16a1-4ed7-d7fa-5b06beceed77"
      },
      "execution_count": null,
      "outputs": [
        {
          "output_type": "execute_result",
          "data": {
            "text/plain": [
              "     index  Species_No Petal_width Petal_length Sepal_width Sepal_length  \\\n",
              "0        1           1         0.2          1.4         3.5          5.1   \n",
              "1        1           1         0.2          1.4           3          4.9   \n",
              "2        1           1         0.2          1.3         3.2          4.7   \n",
              "3        1           1         0.2          1.5         3.1          4.6   \n",
              "4        1           1         0.2          1.4         3.6            5   \n",
              "..     ...         ...         ...          ...         ...          ...   \n",
              "145      3           3         2.3          5.2           3          6.7   \n",
              "146      3           3         1.9            5         2.5          6.3   \n",
              "147      3           3           2          5.2           3          6.5   \n",
              "148      3           3         2.3          5.4         3.4          6.2   \n",
              "149      3           3         1.8          5.1           3          5.9   \n",
              "\n",
              "          class  \n",
              "0        Setosa  \n",
              "1        Setosa  \n",
              "2        Setosa  \n",
              "3        Setosa  \n",
              "4        Setosa  \n",
              "..          ...  \n",
              "145   Verginica  \n",
              "146   Verginica  \n",
              "147   Verginica  \n",
              "148   Verginica  \n",
              "149   Verginica  \n",
              "\n",
              "[150 rows x 7 columns]"
            ],
            "text/html": [
              "\n",
              "  <div id=\"df-617c28e1-84bb-4d41-8221-8100ab51b780\">\n",
              "    <div class=\"colab-df-container\">\n",
              "      <div>\n",
              "<style scoped>\n",
              "    .dataframe tbody tr th:only-of-type {\n",
              "        vertical-align: middle;\n",
              "    }\n",
              "\n",
              "    .dataframe tbody tr th {\n",
              "        vertical-align: top;\n",
              "    }\n",
              "\n",
              "    .dataframe thead th {\n",
              "        text-align: right;\n",
              "    }\n",
              "</style>\n",
              "<table border=\"1\" class=\"dataframe\">\n",
              "  <thead>\n",
              "    <tr style=\"text-align: right;\">\n",
              "      <th></th>\n",
              "      <th>index</th>\n",
              "      <th>Species_No</th>\n",
              "      <th>Petal_width</th>\n",
              "      <th>Petal_length</th>\n",
              "      <th>Sepal_width</th>\n",
              "      <th>Sepal_length</th>\n",
              "      <th>class</th>\n",
              "    </tr>\n",
              "  </thead>\n",
              "  <tbody>\n",
              "    <tr>\n",
              "      <th>0</th>\n",
              "      <td>1</td>\n",
              "      <td>1</td>\n",
              "      <td>0.2</td>\n",
              "      <td>1.4</td>\n",
              "      <td>3.5</td>\n",
              "      <td>5.1</td>\n",
              "      <td>Setosa</td>\n",
              "    </tr>\n",
              "    <tr>\n",
              "      <th>1</th>\n",
              "      <td>1</td>\n",
              "      <td>1</td>\n",
              "      <td>0.2</td>\n",
              "      <td>1.4</td>\n",
              "      <td>3</td>\n",
              "      <td>4.9</td>\n",
              "      <td>Setosa</td>\n",
              "    </tr>\n",
              "    <tr>\n",
              "      <th>2</th>\n",
              "      <td>1</td>\n",
              "      <td>1</td>\n",
              "      <td>0.2</td>\n",
              "      <td>1.3</td>\n",
              "      <td>3.2</td>\n",
              "      <td>4.7</td>\n",
              "      <td>Setosa</td>\n",
              "    </tr>\n",
              "    <tr>\n",
              "      <th>3</th>\n",
              "      <td>1</td>\n",
              "      <td>1</td>\n",
              "      <td>0.2</td>\n",
              "      <td>1.5</td>\n",
              "      <td>3.1</td>\n",
              "      <td>4.6</td>\n",
              "      <td>Setosa</td>\n",
              "    </tr>\n",
              "    <tr>\n",
              "      <th>4</th>\n",
              "      <td>1</td>\n",
              "      <td>1</td>\n",
              "      <td>0.2</td>\n",
              "      <td>1.4</td>\n",
              "      <td>3.6</td>\n",
              "      <td>5</td>\n",
              "      <td>Setosa</td>\n",
              "    </tr>\n",
              "    <tr>\n",
              "      <th>...</th>\n",
              "      <td>...</td>\n",
              "      <td>...</td>\n",
              "      <td>...</td>\n",
              "      <td>...</td>\n",
              "      <td>...</td>\n",
              "      <td>...</td>\n",
              "      <td>...</td>\n",
              "    </tr>\n",
              "    <tr>\n",
              "      <th>145</th>\n",
              "      <td>3</td>\n",
              "      <td>3</td>\n",
              "      <td>2.3</td>\n",
              "      <td>5.2</td>\n",
              "      <td>3</td>\n",
              "      <td>6.7</td>\n",
              "      <td>Verginica</td>\n",
              "    </tr>\n",
              "    <tr>\n",
              "      <th>146</th>\n",
              "      <td>3</td>\n",
              "      <td>3</td>\n",
              "      <td>1.9</td>\n",
              "      <td>5</td>\n",
              "      <td>2.5</td>\n",
              "      <td>6.3</td>\n",
              "      <td>Verginica</td>\n",
              "    </tr>\n",
              "    <tr>\n",
              "      <th>147</th>\n",
              "      <td>3</td>\n",
              "      <td>3</td>\n",
              "      <td>2</td>\n",
              "      <td>5.2</td>\n",
              "      <td>3</td>\n",
              "      <td>6.5</td>\n",
              "      <td>Verginica</td>\n",
              "    </tr>\n",
              "    <tr>\n",
              "      <th>148</th>\n",
              "      <td>3</td>\n",
              "      <td>3</td>\n",
              "      <td>2.3</td>\n",
              "      <td>5.4</td>\n",
              "      <td>3.4</td>\n",
              "      <td>6.2</td>\n",
              "      <td>Verginica</td>\n",
              "    </tr>\n",
              "    <tr>\n",
              "      <th>149</th>\n",
              "      <td>3</td>\n",
              "      <td>3</td>\n",
              "      <td>1.8</td>\n",
              "      <td>5.1</td>\n",
              "      <td>3</td>\n",
              "      <td>5.9</td>\n",
              "      <td>Verginica</td>\n",
              "    </tr>\n",
              "  </tbody>\n",
              "</table>\n",
              "<p>150 rows × 7 columns</p>\n",
              "</div>\n",
              "      <button class=\"colab-df-convert\" onclick=\"convertToInteractive('df-617c28e1-84bb-4d41-8221-8100ab51b780')\"\n",
              "              title=\"Convert this dataframe to an interactive table.\"\n",
              "              style=\"display:none;\">\n",
              "        \n",
              "  <svg xmlns=\"http://www.w3.org/2000/svg\" height=\"24px\"viewBox=\"0 0 24 24\"\n",
              "       width=\"24px\">\n",
              "    <path d=\"M0 0h24v24H0V0z\" fill=\"none\"/>\n",
              "    <path d=\"M18.56 5.44l.94 2.06.94-2.06 2.06-.94-2.06-.94-.94-2.06-.94 2.06-2.06.94zm-11 1L8.5 8.5l.94-2.06 2.06-.94-2.06-.94L8.5 2.5l-.94 2.06-2.06.94zm10 10l.94 2.06.94-2.06 2.06-.94-2.06-.94-.94-2.06-.94 2.06-2.06.94z\"/><path d=\"M17.41 7.96l-1.37-1.37c-.4-.4-.92-.59-1.43-.59-.52 0-1.04.2-1.43.59L10.3 9.45l-7.72 7.72c-.78.78-.78 2.05 0 2.83L4 21.41c.39.39.9.59 1.41.59.51 0 1.02-.2 1.41-.59l7.78-7.78 2.81-2.81c.8-.78.8-2.07 0-2.86zM5.41 20L4 18.59l7.72-7.72 1.47 1.35L5.41 20z\"/>\n",
              "  </svg>\n",
              "      </button>\n",
              "      \n",
              "  <style>\n",
              "    .colab-df-container {\n",
              "      display:flex;\n",
              "      flex-wrap:wrap;\n",
              "      gap: 12px;\n",
              "    }\n",
              "\n",
              "    .colab-df-convert {\n",
              "      background-color: #E8F0FE;\n",
              "      border: none;\n",
              "      border-radius: 50%;\n",
              "      cursor: pointer;\n",
              "      display: none;\n",
              "      fill: #1967D2;\n",
              "      height: 32px;\n",
              "      padding: 0 0 0 0;\n",
              "      width: 32px;\n",
              "    }\n",
              "\n",
              "    .colab-df-convert:hover {\n",
              "      background-color: #E2EBFA;\n",
              "      box-shadow: 0px 1px 2px rgba(60, 64, 67, 0.3), 0px 1px 3px 1px rgba(60, 64, 67, 0.15);\n",
              "      fill: #174EA6;\n",
              "    }\n",
              "\n",
              "    [theme=dark] .colab-df-convert {\n",
              "      background-color: #3B4455;\n",
              "      fill: #D2E3FC;\n",
              "    }\n",
              "\n",
              "    [theme=dark] .colab-df-convert:hover {\n",
              "      background-color: #434B5C;\n",
              "      box-shadow: 0px 1px 3px 1px rgba(0, 0, 0, 0.15);\n",
              "      filter: drop-shadow(0px 1px 2px rgba(0, 0, 0, 0.3));\n",
              "      fill: #FFFFFF;\n",
              "    }\n",
              "  </style>\n",
              "\n",
              "      <script>\n",
              "        const buttonEl =\n",
              "          document.querySelector('#df-617c28e1-84bb-4d41-8221-8100ab51b780 button.colab-df-convert');\n",
              "        buttonEl.style.display =\n",
              "          google.colab.kernel.accessAllowed ? 'block' : 'none';\n",
              "\n",
              "        async function convertToInteractive(key) {\n",
              "          const element = document.querySelector('#df-617c28e1-84bb-4d41-8221-8100ab51b780');\n",
              "          const dataTable =\n",
              "            await google.colab.kernel.invokeFunction('convertToInteractive',\n",
              "                                                     [key], {});\n",
              "          if (!dataTable) return;\n",
              "\n",
              "          const docLinkHtml = 'Like what you see? Visit the ' +\n",
              "            '<a target=\"_blank\" href=https://colab.research.google.com/notebooks/data_table.ipynb>data table notebook</a>'\n",
              "            + ' to learn more about interactive tables.';\n",
              "          element.innerHTML = '';\n",
              "          dataTable['output_type'] = 'display_data';\n",
              "          await google.colab.output.renderOutput(dataTable, element);\n",
              "          const docLink = document.createElement('div');\n",
              "          docLink.innerHTML = docLinkHtml;\n",
              "          element.appendChild(docLink);\n",
              "        }\n",
              "      </script>\n",
              "    </div>\n",
              "  </div>\n",
              "  "
            ]
          },
          "metadata": {},
          "execution_count": 7
        }
      ]
    },
    {
      "cell_type": "markdown",
      "source": [
        "# Tamanho da Base de Dados"
      ],
      "metadata": {
        "id": "tt0mLXQCitBB"
      }
    },
    {
      "cell_type": "code",
      "source": [
        "print(base_iris.shape)"
      ],
      "metadata": {
        "colab": {
          "base_uri": "https://localhost:8080/"
        },
        "id": "kOVWkv63iwEz",
        "outputId": "aea52c6f-8bf5-4dd4-ca87-badce7e2239b"
      },
      "execution_count": null,
      "outputs": [
        {
          "output_type": "stream",
          "name": "stdout",
          "text": [
            "(150, 7)\n"
          ]
        }
      ]
    },
    {
      "cell_type": "markdown",
      "source": [
        "# 2 Primeiros elementos"
      ],
      "metadata": {
        "id": "Hh90IkunVd0r"
      }
    },
    {
      "cell_type": "code",
      "source": [
        "base_iris.head(2)"
      ],
      "metadata": {
        "colab": {
          "base_uri": "https://localhost:8080/",
          "height": 112
        },
        "id": "43U2YPR0VhN9",
        "outputId": "5e2b8e50-a705-466d-d8ae-b43b09263d74"
      },
      "execution_count": null,
      "outputs": [
        {
          "output_type": "execute_result",
          "data": {
            "text/plain": [
              "   index  Species_No Petal_width Petal_length Sepal_width Sepal_length  \\\n",
              "0      1           1         0.2          1.4         3.5          5.1   \n",
              "1      1           1         0.2          1.4           3          4.9   \n",
              "\n",
              "     class  \n",
              "0   Setosa  \n",
              "1   Setosa  "
            ],
            "text/html": [
              "\n",
              "  <div id=\"df-13ab0c02-d91a-4990-a76c-d22cdf877941\">\n",
              "    <div class=\"colab-df-container\">\n",
              "      <div>\n",
              "<style scoped>\n",
              "    .dataframe tbody tr th:only-of-type {\n",
              "        vertical-align: middle;\n",
              "    }\n",
              "\n",
              "    .dataframe tbody tr th {\n",
              "        vertical-align: top;\n",
              "    }\n",
              "\n",
              "    .dataframe thead th {\n",
              "        text-align: right;\n",
              "    }\n",
              "</style>\n",
              "<table border=\"1\" class=\"dataframe\">\n",
              "  <thead>\n",
              "    <tr style=\"text-align: right;\">\n",
              "      <th></th>\n",
              "      <th>index</th>\n",
              "      <th>Species_No</th>\n",
              "      <th>Petal_width</th>\n",
              "      <th>Petal_length</th>\n",
              "      <th>Sepal_width</th>\n",
              "      <th>Sepal_length</th>\n",
              "      <th>class</th>\n",
              "    </tr>\n",
              "  </thead>\n",
              "  <tbody>\n",
              "    <tr>\n",
              "      <th>0</th>\n",
              "      <td>1</td>\n",
              "      <td>1</td>\n",
              "      <td>0.2</td>\n",
              "      <td>1.4</td>\n",
              "      <td>3.5</td>\n",
              "      <td>5.1</td>\n",
              "      <td>Setosa</td>\n",
              "    </tr>\n",
              "    <tr>\n",
              "      <th>1</th>\n",
              "      <td>1</td>\n",
              "      <td>1</td>\n",
              "      <td>0.2</td>\n",
              "      <td>1.4</td>\n",
              "      <td>3</td>\n",
              "      <td>4.9</td>\n",
              "      <td>Setosa</td>\n",
              "    </tr>\n",
              "  </tbody>\n",
              "</table>\n",
              "</div>\n",
              "      <button class=\"colab-df-convert\" onclick=\"convertToInteractive('df-13ab0c02-d91a-4990-a76c-d22cdf877941')\"\n",
              "              title=\"Convert this dataframe to an interactive table.\"\n",
              "              style=\"display:none;\">\n",
              "        \n",
              "  <svg xmlns=\"http://www.w3.org/2000/svg\" height=\"24px\"viewBox=\"0 0 24 24\"\n",
              "       width=\"24px\">\n",
              "    <path d=\"M0 0h24v24H0V0z\" fill=\"none\"/>\n",
              "    <path d=\"M18.56 5.44l.94 2.06.94-2.06 2.06-.94-2.06-.94-.94-2.06-.94 2.06-2.06.94zm-11 1L8.5 8.5l.94-2.06 2.06-.94-2.06-.94L8.5 2.5l-.94 2.06-2.06.94zm10 10l.94 2.06.94-2.06 2.06-.94-2.06-.94-.94-2.06-.94 2.06-2.06.94z\"/><path d=\"M17.41 7.96l-1.37-1.37c-.4-.4-.92-.59-1.43-.59-.52 0-1.04.2-1.43.59L10.3 9.45l-7.72 7.72c-.78.78-.78 2.05 0 2.83L4 21.41c.39.39.9.59 1.41.59.51 0 1.02-.2 1.41-.59l7.78-7.78 2.81-2.81c.8-.78.8-2.07 0-2.86zM5.41 20L4 18.59l7.72-7.72 1.47 1.35L5.41 20z\"/>\n",
              "  </svg>\n",
              "      </button>\n",
              "      \n",
              "  <style>\n",
              "    .colab-df-container {\n",
              "      display:flex;\n",
              "      flex-wrap:wrap;\n",
              "      gap: 12px;\n",
              "    }\n",
              "\n",
              "    .colab-df-convert {\n",
              "      background-color: #E8F0FE;\n",
              "      border: none;\n",
              "      border-radius: 50%;\n",
              "      cursor: pointer;\n",
              "      display: none;\n",
              "      fill: #1967D2;\n",
              "      height: 32px;\n",
              "      padding: 0 0 0 0;\n",
              "      width: 32px;\n",
              "    }\n",
              "\n",
              "    .colab-df-convert:hover {\n",
              "      background-color: #E2EBFA;\n",
              "      box-shadow: 0px 1px 2px rgba(60, 64, 67, 0.3), 0px 1px 3px 1px rgba(60, 64, 67, 0.15);\n",
              "      fill: #174EA6;\n",
              "    }\n",
              "\n",
              "    [theme=dark] .colab-df-convert {\n",
              "      background-color: #3B4455;\n",
              "      fill: #D2E3FC;\n",
              "    }\n",
              "\n",
              "    [theme=dark] .colab-df-convert:hover {\n",
              "      background-color: #434B5C;\n",
              "      box-shadow: 0px 1px 3px 1px rgba(0, 0, 0, 0.15);\n",
              "      filter: drop-shadow(0px 1px 2px rgba(0, 0, 0, 0.3));\n",
              "      fill: #FFFFFF;\n",
              "    }\n",
              "  </style>\n",
              "\n",
              "      <script>\n",
              "        const buttonEl =\n",
              "          document.querySelector('#df-13ab0c02-d91a-4990-a76c-d22cdf877941 button.colab-df-convert');\n",
              "        buttonEl.style.display =\n",
              "          google.colab.kernel.accessAllowed ? 'block' : 'none';\n",
              "\n",
              "        async function convertToInteractive(key) {\n",
              "          const element = document.querySelector('#df-13ab0c02-d91a-4990-a76c-d22cdf877941');\n",
              "          const dataTable =\n",
              "            await google.colab.kernel.invokeFunction('convertToInteractive',\n",
              "                                                     [key], {});\n",
              "          if (!dataTable) return;\n",
              "\n",
              "          const docLinkHtml = 'Like what you see? Visit the ' +\n",
              "            '<a target=\"_blank\" href=https://colab.research.google.com/notebooks/data_table.ipynb>data table notebook</a>'\n",
              "            + ' to learn more about interactive tables.';\n",
              "          element.innerHTML = '';\n",
              "          dataTable['output_type'] = 'display_data';\n",
              "          await google.colab.output.renderOutput(dataTable, element);\n",
              "          const docLink = document.createElement('div');\n",
              "          docLink.innerHTML = docLinkHtml;\n",
              "          element.appendChild(docLink);\n",
              "        }\n",
              "      </script>\n",
              "    </div>\n",
              "  </div>\n",
              "  "
            ]
          },
          "metadata": {},
          "execution_count": 9
        }
      ]
    },
    {
      "cell_type": "markdown",
      "source": [
        "# 2 Ultimos Elementos"
      ],
      "metadata": {
        "id": "-6CcmDIkVAgg"
      }
    },
    {
      "cell_type": "code",
      "source": [
        "base_iris.tail(2)"
      ],
      "metadata": {
        "colab": {
          "base_uri": "https://localhost:8080/",
          "height": 112
        },
        "id": "6FrfoNOyVDMG",
        "outputId": "c02ef58e-b8d8-4d6c-edaf-4ce62be031da"
      },
      "execution_count": null,
      "outputs": [
        {
          "output_type": "execute_result",
          "data": {
            "text/plain": [
              "     index  Species_No Petal_width Petal_length Sepal_width Sepal_length  \\\n",
              "148      3           3         2.3          5.4         3.4          6.2   \n",
              "149      3           3         1.8          5.1           3          5.9   \n",
              "\n",
              "          class  \n",
              "148   Verginica  \n",
              "149   Verginica  "
            ],
            "text/html": [
              "\n",
              "  <div id=\"df-a4e30b4f-93bd-4b67-b0dd-bcdb8e980259\">\n",
              "    <div class=\"colab-df-container\">\n",
              "      <div>\n",
              "<style scoped>\n",
              "    .dataframe tbody tr th:only-of-type {\n",
              "        vertical-align: middle;\n",
              "    }\n",
              "\n",
              "    .dataframe tbody tr th {\n",
              "        vertical-align: top;\n",
              "    }\n",
              "\n",
              "    .dataframe thead th {\n",
              "        text-align: right;\n",
              "    }\n",
              "</style>\n",
              "<table border=\"1\" class=\"dataframe\">\n",
              "  <thead>\n",
              "    <tr style=\"text-align: right;\">\n",
              "      <th></th>\n",
              "      <th>index</th>\n",
              "      <th>Species_No</th>\n",
              "      <th>Petal_width</th>\n",
              "      <th>Petal_length</th>\n",
              "      <th>Sepal_width</th>\n",
              "      <th>Sepal_length</th>\n",
              "      <th>class</th>\n",
              "    </tr>\n",
              "  </thead>\n",
              "  <tbody>\n",
              "    <tr>\n",
              "      <th>148</th>\n",
              "      <td>3</td>\n",
              "      <td>3</td>\n",
              "      <td>2.3</td>\n",
              "      <td>5.4</td>\n",
              "      <td>3.4</td>\n",
              "      <td>6.2</td>\n",
              "      <td>Verginica</td>\n",
              "    </tr>\n",
              "    <tr>\n",
              "      <th>149</th>\n",
              "      <td>3</td>\n",
              "      <td>3</td>\n",
              "      <td>1.8</td>\n",
              "      <td>5.1</td>\n",
              "      <td>3</td>\n",
              "      <td>5.9</td>\n",
              "      <td>Verginica</td>\n",
              "    </tr>\n",
              "  </tbody>\n",
              "</table>\n",
              "</div>\n",
              "      <button class=\"colab-df-convert\" onclick=\"convertToInteractive('df-a4e30b4f-93bd-4b67-b0dd-bcdb8e980259')\"\n",
              "              title=\"Convert this dataframe to an interactive table.\"\n",
              "              style=\"display:none;\">\n",
              "        \n",
              "  <svg xmlns=\"http://www.w3.org/2000/svg\" height=\"24px\"viewBox=\"0 0 24 24\"\n",
              "       width=\"24px\">\n",
              "    <path d=\"M0 0h24v24H0V0z\" fill=\"none\"/>\n",
              "    <path d=\"M18.56 5.44l.94 2.06.94-2.06 2.06-.94-2.06-.94-.94-2.06-.94 2.06-2.06.94zm-11 1L8.5 8.5l.94-2.06 2.06-.94-2.06-.94L8.5 2.5l-.94 2.06-2.06.94zm10 10l.94 2.06.94-2.06 2.06-.94-2.06-.94-.94-2.06-.94 2.06-2.06.94z\"/><path d=\"M17.41 7.96l-1.37-1.37c-.4-.4-.92-.59-1.43-.59-.52 0-1.04.2-1.43.59L10.3 9.45l-7.72 7.72c-.78.78-.78 2.05 0 2.83L4 21.41c.39.39.9.59 1.41.59.51 0 1.02-.2 1.41-.59l7.78-7.78 2.81-2.81c.8-.78.8-2.07 0-2.86zM5.41 20L4 18.59l7.72-7.72 1.47 1.35L5.41 20z\"/>\n",
              "  </svg>\n",
              "      </button>\n",
              "      \n",
              "  <style>\n",
              "    .colab-df-container {\n",
              "      display:flex;\n",
              "      flex-wrap:wrap;\n",
              "      gap: 12px;\n",
              "    }\n",
              "\n",
              "    .colab-df-convert {\n",
              "      background-color: #E8F0FE;\n",
              "      border: none;\n",
              "      border-radius: 50%;\n",
              "      cursor: pointer;\n",
              "      display: none;\n",
              "      fill: #1967D2;\n",
              "      height: 32px;\n",
              "      padding: 0 0 0 0;\n",
              "      width: 32px;\n",
              "    }\n",
              "\n",
              "    .colab-df-convert:hover {\n",
              "      background-color: #E2EBFA;\n",
              "      box-shadow: 0px 1px 2px rgba(60, 64, 67, 0.3), 0px 1px 3px 1px rgba(60, 64, 67, 0.15);\n",
              "      fill: #174EA6;\n",
              "    }\n",
              "\n",
              "    [theme=dark] .colab-df-convert {\n",
              "      background-color: #3B4455;\n",
              "      fill: #D2E3FC;\n",
              "    }\n",
              "\n",
              "    [theme=dark] .colab-df-convert:hover {\n",
              "      background-color: #434B5C;\n",
              "      box-shadow: 0px 1px 3px 1px rgba(0, 0, 0, 0.15);\n",
              "      filter: drop-shadow(0px 1px 2px rgba(0, 0, 0, 0.3));\n",
              "      fill: #FFFFFF;\n",
              "    }\n",
              "  </style>\n",
              "\n",
              "      <script>\n",
              "        const buttonEl =\n",
              "          document.querySelector('#df-a4e30b4f-93bd-4b67-b0dd-bcdb8e980259 button.colab-df-convert');\n",
              "        buttonEl.style.display =\n",
              "          google.colab.kernel.accessAllowed ? 'block' : 'none';\n",
              "\n",
              "        async function convertToInteractive(key) {\n",
              "          const element = document.querySelector('#df-a4e30b4f-93bd-4b67-b0dd-bcdb8e980259');\n",
              "          const dataTable =\n",
              "            await google.colab.kernel.invokeFunction('convertToInteractive',\n",
              "                                                     [key], {});\n",
              "          if (!dataTable) return;\n",
              "\n",
              "          const docLinkHtml = 'Like what you see? Visit the ' +\n",
              "            '<a target=\"_blank\" href=https://colab.research.google.com/notebooks/data_table.ipynb>data table notebook</a>'\n",
              "            + ' to learn more about interactive tables.';\n",
              "          element.innerHTML = '';\n",
              "          dataTable['output_type'] = 'display_data';\n",
              "          await google.colab.output.renderOutput(dataTable, element);\n",
              "          const docLink = document.createElement('div');\n",
              "          docLink.innerHTML = docLinkHtml;\n",
              "          element.appendChild(docLink);\n",
              "        }\n",
              "      </script>\n",
              "    </div>\n",
              "  </div>\n",
              "  "
            ]
          },
          "metadata": {},
          "execution_count": 10
        }
      ]
    },
    {
      "cell_type": "markdown",
      "source": [
        "# Descrição da base iris"
      ],
      "metadata": {
        "id": "NeMAqMBGbiFI"
      }
    },
    {
      "cell_type": "code",
      "source": [
        "base_iris.describe()"
      ],
      "metadata": {
        "colab": {
          "base_uri": "https://localhost:8080/",
          "height": 300
        },
        "id": "pcO_QgShbmOH",
        "outputId": "664342f3-958f-497b-d6c6-d6d6e2b03611"
      },
      "execution_count": null,
      "outputs": [
        {
          "output_type": "execute_result",
          "data": {
            "text/plain": [
              "            index  Species_No\n",
              "count  150.000000  150.000000\n",
              "mean     2.000000    2.000000\n",
              "std      0.819232    0.819232\n",
              "min      1.000000    1.000000\n",
              "25%      1.000000    1.000000\n",
              "50%      2.000000    2.000000\n",
              "75%      3.000000    3.000000\n",
              "max      3.000000    3.000000"
            ],
            "text/html": [
              "\n",
              "  <div id=\"df-41986777-02ac-48c8-b571-0cb6dfafed3f\">\n",
              "    <div class=\"colab-df-container\">\n",
              "      <div>\n",
              "<style scoped>\n",
              "    .dataframe tbody tr th:only-of-type {\n",
              "        vertical-align: middle;\n",
              "    }\n",
              "\n",
              "    .dataframe tbody tr th {\n",
              "        vertical-align: top;\n",
              "    }\n",
              "\n",
              "    .dataframe thead th {\n",
              "        text-align: right;\n",
              "    }\n",
              "</style>\n",
              "<table border=\"1\" class=\"dataframe\">\n",
              "  <thead>\n",
              "    <tr style=\"text-align: right;\">\n",
              "      <th></th>\n",
              "      <th>index</th>\n",
              "      <th>Species_No</th>\n",
              "    </tr>\n",
              "  </thead>\n",
              "  <tbody>\n",
              "    <tr>\n",
              "      <th>count</th>\n",
              "      <td>150.000000</td>\n",
              "      <td>150.000000</td>\n",
              "    </tr>\n",
              "    <tr>\n",
              "      <th>mean</th>\n",
              "      <td>2.000000</td>\n",
              "      <td>2.000000</td>\n",
              "    </tr>\n",
              "    <tr>\n",
              "      <th>std</th>\n",
              "      <td>0.819232</td>\n",
              "      <td>0.819232</td>\n",
              "    </tr>\n",
              "    <tr>\n",
              "      <th>min</th>\n",
              "      <td>1.000000</td>\n",
              "      <td>1.000000</td>\n",
              "    </tr>\n",
              "    <tr>\n",
              "      <th>25%</th>\n",
              "      <td>1.000000</td>\n",
              "      <td>1.000000</td>\n",
              "    </tr>\n",
              "    <tr>\n",
              "      <th>50%</th>\n",
              "      <td>2.000000</td>\n",
              "      <td>2.000000</td>\n",
              "    </tr>\n",
              "    <tr>\n",
              "      <th>75%</th>\n",
              "      <td>3.000000</td>\n",
              "      <td>3.000000</td>\n",
              "    </tr>\n",
              "    <tr>\n",
              "      <th>max</th>\n",
              "      <td>3.000000</td>\n",
              "      <td>3.000000</td>\n",
              "    </tr>\n",
              "  </tbody>\n",
              "</table>\n",
              "</div>\n",
              "      <button class=\"colab-df-convert\" onclick=\"convertToInteractive('df-41986777-02ac-48c8-b571-0cb6dfafed3f')\"\n",
              "              title=\"Convert this dataframe to an interactive table.\"\n",
              "              style=\"display:none;\">\n",
              "        \n",
              "  <svg xmlns=\"http://www.w3.org/2000/svg\" height=\"24px\"viewBox=\"0 0 24 24\"\n",
              "       width=\"24px\">\n",
              "    <path d=\"M0 0h24v24H0V0z\" fill=\"none\"/>\n",
              "    <path d=\"M18.56 5.44l.94 2.06.94-2.06 2.06-.94-2.06-.94-.94-2.06-.94 2.06-2.06.94zm-11 1L8.5 8.5l.94-2.06 2.06-.94-2.06-.94L8.5 2.5l-.94 2.06-2.06.94zm10 10l.94 2.06.94-2.06 2.06-.94-2.06-.94-.94-2.06-.94 2.06-2.06.94z\"/><path d=\"M17.41 7.96l-1.37-1.37c-.4-.4-.92-.59-1.43-.59-.52 0-1.04.2-1.43.59L10.3 9.45l-7.72 7.72c-.78.78-.78 2.05 0 2.83L4 21.41c.39.39.9.59 1.41.59.51 0 1.02-.2 1.41-.59l7.78-7.78 2.81-2.81c.8-.78.8-2.07 0-2.86zM5.41 20L4 18.59l7.72-7.72 1.47 1.35L5.41 20z\"/>\n",
              "  </svg>\n",
              "      </button>\n",
              "      \n",
              "  <style>\n",
              "    .colab-df-container {\n",
              "      display:flex;\n",
              "      flex-wrap:wrap;\n",
              "      gap: 12px;\n",
              "    }\n",
              "\n",
              "    .colab-df-convert {\n",
              "      background-color: #E8F0FE;\n",
              "      border: none;\n",
              "      border-radius: 50%;\n",
              "      cursor: pointer;\n",
              "      display: none;\n",
              "      fill: #1967D2;\n",
              "      height: 32px;\n",
              "      padding: 0 0 0 0;\n",
              "      width: 32px;\n",
              "    }\n",
              "\n",
              "    .colab-df-convert:hover {\n",
              "      background-color: #E2EBFA;\n",
              "      box-shadow: 0px 1px 2px rgba(60, 64, 67, 0.3), 0px 1px 3px 1px rgba(60, 64, 67, 0.15);\n",
              "      fill: #174EA6;\n",
              "    }\n",
              "\n",
              "    [theme=dark] .colab-df-convert {\n",
              "      background-color: #3B4455;\n",
              "      fill: #D2E3FC;\n",
              "    }\n",
              "\n",
              "    [theme=dark] .colab-df-convert:hover {\n",
              "      background-color: #434B5C;\n",
              "      box-shadow: 0px 1px 3px 1px rgba(0, 0, 0, 0.15);\n",
              "      filter: drop-shadow(0px 1px 2px rgba(0, 0, 0, 0.3));\n",
              "      fill: #FFFFFF;\n",
              "    }\n",
              "  </style>\n",
              "\n",
              "      <script>\n",
              "        const buttonEl =\n",
              "          document.querySelector('#df-41986777-02ac-48c8-b571-0cb6dfafed3f button.colab-df-convert');\n",
              "        buttonEl.style.display =\n",
              "          google.colab.kernel.accessAllowed ? 'block' : 'none';\n",
              "\n",
              "        async function convertToInteractive(key) {\n",
              "          const element = document.querySelector('#df-41986777-02ac-48c8-b571-0cb6dfafed3f');\n",
              "          const dataTable =\n",
              "            await google.colab.kernel.invokeFunction('convertToInteractive',\n",
              "                                                     [key], {});\n",
              "          if (!dataTable) return;\n",
              "\n",
              "          const docLinkHtml = 'Like what you see? Visit the ' +\n",
              "            '<a target=\"_blank\" href=https://colab.research.google.com/notebooks/data_table.ipynb>data table notebook</a>'\n",
              "            + ' to learn more about interactive tables.';\n",
              "          element.innerHTML = '';\n",
              "          dataTable['output_type'] = 'display_data';\n",
              "          await google.colab.output.renderOutput(dataTable, element);\n",
              "          const docLink = document.createElement('div');\n",
              "          docLink.innerHTML = docLinkHtml;\n",
              "          element.appendChild(docLink);\n",
              "        }\n",
              "      </script>\n",
              "    </div>\n",
              "  </div>\n",
              "  "
            ]
          },
          "metadata": {},
          "execution_count": 11
        }
      ]
    },
    {
      "cell_type": "markdown",
      "source": [
        "# Classificação por grupo"
      ],
      "metadata": {
        "id": "A_SLQZrZWC3Q"
      }
    },
    {
      "cell_type": "code",
      "source": [
        "base_iris.groupby('class').size()"
      ],
      "metadata": {
        "colab": {
          "base_uri": "https://localhost:8080/"
        },
        "id": "pRoYviG_WJii",
        "outputId": "49bf26b5-e2d9-45da-c5d6-87ab3ff9fe86"
      },
      "execution_count": null,
      "outputs": [
        {
          "output_type": "execute_result",
          "data": {
            "text/plain": [
              "class\n",
              " Setosa        50\n",
              " Verginica     50\n",
              " Versicolor    50\n",
              "dtype: int64"
            ]
          },
          "metadata": {},
          "execution_count": 12
        }
      ]
    },
    {
      "cell_type": "code",
      "source": [
        "base_iris.isnull().sum()"
      ],
      "metadata": {
        "colab": {
          "base_uri": "https://localhost:8080/"
        },
        "id": "Kb6uh1tFsReT",
        "outputId": "1a68273d-0918-42b0-e27e-fedb2b487e23"
      },
      "execution_count": 41,
      "outputs": [
        {
          "output_type": "execute_result",
          "data": {
            "text/plain": [
              "index           0\n",
              "Species_No      0\n",
              "Petal_width     0\n",
              "Petal_length    0\n",
              "Sepal_width     0\n",
              "Sepal_length    0\n",
              "class           0\n",
              "dtype: int64"
            ]
          },
          "metadata": {},
          "execution_count": 41
        }
      ]
    },
    {
      "cell_type": "code",
      "source": [
        "base_iris.isna().sum()"
      ],
      "metadata": {
        "colab": {
          "base_uri": "https://localhost:8080/"
        },
        "id": "fgiYHKSWsayJ",
        "outputId": "2c2ee575-c81d-4f0a-a967-ddc853bf3bea"
      },
      "execution_count": 42,
      "outputs": [
        {
          "output_type": "execute_result",
          "data": {
            "text/plain": [
              "index           0\n",
              "Species_No      0\n",
              "Petal_width     0\n",
              "Petal_length    0\n",
              "Sepal_width     0\n",
              "Sepal_length    0\n",
              "class           0\n",
              "dtype: int64"
            ]
          },
          "metadata": {},
          "execution_count": 42
        }
      ]
    },
    {
      "cell_type": "markdown",
      "source": [
        "# Grafico de classificação"
      ],
      "metadata": {
        "id": "aKAJiLmnb1Ff"
      }
    },
    {
      "cell_type": "code",
      "source": [
        "sns.set(style = 'white', color_codes = True)\n",
        "sns.FacetGrid(base_iris, hue='class', height=8).map(plt.scatter, 'Petal_length', 'Sepal_width').add_legend()"
      ],
      "metadata": {
        "colab": {
          "base_uri": "https://localhost:8080/",
          "height": 598
        },
        "id": "RwtA5VpHb5PK",
        "outputId": "d0f77b49-9bc8-4936-8377-6ec3d432e460"
      },
      "execution_count": null,
      "outputs": [
        {
          "output_type": "execute_result",
          "data": {
            "text/plain": [
              "<seaborn.axisgrid.FacetGrid at 0x7ff82bfa6890>"
            ]
          },
          "metadata": {},
          "execution_count": 13
        },
        {
          "output_type": "display_data",
          "data": {
            "text/plain": [
              "<Figure size 673.475x576 with 1 Axes>"
            ],
            "image/png": "[encoded data removed]"
          },
          "metadata": {}
        }
      ]
    },
    {
      "cell_type": "markdown",
      "source": [
        "# Separando colunas"
      ],
      "metadata": {
        "id": "uh6lKQb-hTO-"
      }
    },
    {
      "cell_type": "code",
      "source": [
        "previsores = base_iris.iloc[:, 2:6]\n",
        "classe = base_iris.iloc[:, 6]"
      ],
      "metadata": {
        "id": "RJ-lJcv3hWfM"
      },
      "execution_count": null,
      "outputs": []
    },
    {
      "cell_type": "code",
      "source": [
        "previsores"
      ],
      "metadata": {
        "colab": {
          "base_uri": "https://localhost:8080/",
          "height": 424
        },
        "id": "wecTw5uih0Pd",
        "outputId": "6bd3a40e-1e8c-409b-b181-30b84d215f59"
      },
      "execution_count": null,
      "outputs": [
        {
          "output_type": "execute_result",
          "data": {
            "text/plain": [
              "    Petal_width Petal_length Sepal_width Sepal_length\n",
              "0           0.2          1.4         3.5          5.1\n",
              "1           0.2          1.4           3          4.9\n",
              "2           0.2          1.3         3.2          4.7\n",
              "3           0.2          1.5         3.1          4.6\n",
              "4           0.2          1.4         3.6            5\n",
              "..          ...          ...         ...          ...\n",
              "145         2.3          5.2           3          6.7\n",
              "146         1.9            5         2.5          6.3\n",
              "147           2          5.2           3          6.5\n",
              "148         2.3          5.4         3.4          6.2\n",
              "149         1.8          5.1           3          5.9\n",
              "\n",
              "[150 rows x 4 columns]"
            ],
            "text/html": [
              "\n",
              "  <div id=\"df-ef33f42c-0390-4217-96ab-3a17a03cb94e\">\n",
              "    <div class=\"colab-df-container\">\n",
              "      <div>\n",
              "<style scoped>\n",
              "    .dataframe tbody tr th:only-of-type {\n",
              "        vertical-align: middle;\n",
              "    }\n",
              "\n",
              "    .dataframe tbody tr th {\n",
              "        vertical-align: top;\n",
              "    }\n",
              "\n",
              "    .dataframe thead th {\n",
              "        text-align: right;\n",
              "    }\n",
              "</style>\n",
              "<table border=\"1\" class=\"dataframe\">\n",
              "  <thead>\n",
              "    <tr style=\"text-align: right;\">\n",
              "      <th></th>\n",
              "      <th>Petal_width</th>\n",
              "      <th>Petal_length</th>\n",
              "      <th>Sepal_width</th>\n",
              "      <th>Sepal_length</th>\n",
              "    </tr>\n",
              "  </thead>\n",
              "  <tbody>\n",
              "    <tr>\n",
              "      <th>0</th>\n",
              "      <td>0.2</td>\n",
              "      <td>1.4</td>\n",
              "      <td>3.5</td>\n",
              "      <td>5.1</td>\n",
              "    </tr>\n",
              "    <tr>\n",
              "      <th>1</th>\n",
              "      <td>0.2</td>\n",
              "      <td>1.4</td>\n",
              "      <td>3</td>\n",
              "      <td>4.9</td>\n",
              "    </tr>\n",
              "    <tr>\n",
              "      <th>2</th>\n",
              "      <td>0.2</td>\n",
              "      <td>1.3</td>\n",
              "      <td>3.2</td>\n",
              "      <td>4.7</td>\n",
              "    </tr>\n",
              "    <tr>\n",
              "      <th>3</th>\n",
              "      <td>0.2</td>\n",
              "      <td>1.5</td>\n",
              "      <td>3.1</td>\n",
              "      <td>4.6</td>\n",
              "    </tr>\n",
              "    <tr>\n",
              "      <th>4</th>\n",
              "      <td>0.2</td>\n",
              "      <td>1.4</td>\n",
              "      <td>3.6</td>\n",
              "      <td>5</td>\n",
              "    </tr>\n",
              "    <tr>\n",
              "      <th>...</th>\n",
              "      <td>...</td>\n",
              "      <td>...</td>\n",
              "      <td>...</td>\n",
              "      <td>...</td>\n",
              "    </tr>\n",
              "    <tr>\n",
              "      <th>145</th>\n",
              "      <td>2.3</td>\n",
              "      <td>5.2</td>\n",
              "      <td>3</td>\n",
              "      <td>6.7</td>\n",
              "    </tr>\n",
              "    <tr>\n",
              "      <th>146</th>\n",
              "      <td>1.9</td>\n",
              "      <td>5</td>\n",
              "      <td>2.5</td>\n",
              "      <td>6.3</td>\n",
              "    </tr>\n",
              "    <tr>\n",
              "      <th>147</th>\n",
              "      <td>2</td>\n",
              "      <td>5.2</td>\n",
              "      <td>3</td>\n",
              "      <td>6.5</td>\n",
              "    </tr>\n",
              "    <tr>\n",
              "      <th>148</th>\n",
              "      <td>2.3</td>\n",
              "      <td>5.4</td>\n",
              "      <td>3.4</td>\n",
              "      <td>6.2</td>\n",
              "    </tr>\n",
              "    <tr>\n",
              "      <th>149</th>\n",
              "      <td>1.8</td>\n",
              "      <td>5.1</td>\n",
              "      <td>3</td>\n",
              "      <td>5.9</td>\n",
              "    </tr>\n",
              "  </tbody>\n",
              "</table>\n",
              "<p>150 rows × 4 columns</p>\n",
              "</div>\n",
              "      <button class=\"colab-df-convert\" onclick=\"convertToInteractive('df-ef33f42c-0390-4217-96ab-3a17a03cb94e')\"\n",
              "              title=\"Convert this dataframe to an interactive table.\"\n",
              "              style=\"display:none;\">\n",
              "        \n",
              "  <svg xmlns=\"http://www.w3.org/2000/svg\" height=\"24px\"viewBox=\"0 0 24 24\"\n",
              "       width=\"24px\">\n",
              "    <path d=\"M0 0h24v24H0V0z\" fill=\"none\"/>\n",
              "    <path d=\"M18.56 5.44l.94 2.06.94-2.06 2.06-.94-2.06-.94-.94-2.06-.94 2.06-2.06.94zm-11 1L8.5 8.5l.94-2.06 2.06-.94-2.06-.94L8.5 2.5l-.94 2.06-2.06.94zm10 10l.94 2.06.94-2.06 2.06-.94-2.06-.94-.94-2.06-.94 2.06-2.06.94z\"/><path d=\"M17.41 7.96l-1.37-1.37c-.4-.4-.92-.59-1.43-.59-.52 0-1.04.2-1.43.59L10.3 9.45l-7.72 7.72c-.78.78-.78 2.05 0 2.83L4 21.41c.39.39.9.59 1.41.59.51 0 1.02-.2 1.41-.59l7.78-7.78 2.81-2.81c.8-.78.8-2.07 0-2.86zM5.41 20L4 18.59l7.72-7.72 1.47 1.35L5.41 20z\"/>\n",
              "  </svg>\n",
              "      </button>\n",
              "      \n",
              "  <style>\n",
              "    .colab-df-container {\n",
              "      display:flex;\n",
              "      flex-wrap:wrap;\n",
              "      gap: 12px;\n",
              "    }\n",
              "\n",
              "    .colab-df-convert {\n",
              "      background-color: #E8F0FE;\n",
              "      border: none;\n",
              "      border-radius: 50%;\n",
              "      cursor: pointer;\n",
              "      display: none;\n",
              "      fill: #1967D2;\n",
              "      height: 32px;\n",
              "      padding: 0 0 0 0;\n",
              "      width: 32px;\n",
              "    }\n",
              "\n",
              "    .colab-df-convert:hover {\n",
              "      background-color: #E2EBFA;\n",
              "      box-shadow: 0px 1px 2px rgba(60, 64, 67, 0.3), 0px 1px 3px 1px rgba(60, 64, 67, 0.15);\n",
              "      fill: #174EA6;\n",
              "    }\n",
              "\n",
              "    [theme=dark] .colab-df-convert {\n",
              "      background-color: #3B4455;\n",
              "      fill: #D2E3FC;\n",
              "    }\n",
              "\n",
              "    [theme=dark] .colab-df-convert:hover {\n",
              "      background-color: #434B5C;\n",
              "      box-shadow: 0px 1px 3px 1px rgba(0, 0, 0, 0.15);\n",
              "      filter: drop-shadow(0px 1px 2px rgba(0, 0, 0, 0.3));\n",
              "      fill: #FFFFFF;\n",
              "    }\n",
              "  </style>\n",
              "\n",
              "      <script>\n",
              "        const buttonEl =\n",
              "          document.querySelector('#df-ef33f42c-0390-4217-96ab-3a17a03cb94e button.colab-df-convert');\n",
              "        buttonEl.style.display =\n",
              "          google.colab.kernel.accessAllowed ? 'block' : 'none';\n",
              "\n",
              "        async function convertToInteractive(key) {\n",
              "          const element = document.querySelector('#df-ef33f42c-0390-4217-96ab-3a17a03cb94e');\n",
              "          const dataTable =\n",
              "            await google.colab.kernel.invokeFunction('convertToInteractive',\n",
              "                                                     [key], {});\n",
              "          if (!dataTable) return;\n",
              "\n",
              "          const docLinkHtml = 'Like what you see? Visit the ' +\n",
              "            '<a target=\"_blank\" href=https://colab.research.google.com/notebooks/data_table.ipynb>data table notebook</a>'\n",
              "            + ' to learn more about interactive tables.';\n",
              "          element.innerHTML = '';\n",
              "          dataTable['output_type'] = 'display_data';\n",
              "          await google.colab.output.renderOutput(dataTable, element);\n",
              "          const docLink = document.createElement('div');\n",
              "          docLink.innerHTML = docLinkHtml;\n",
              "          element.appendChild(docLink);\n",
              "        }\n",
              "      </script>\n",
              "    </div>\n",
              "  </div>\n",
              "  "
            ]
          },
          "metadata": {},
          "execution_count": 15
        }
      ]
    },
    {
      "cell_type": "code",
      "source": [
        "classe"
      ],
      "metadata": {
        "colab": {
          "base_uri": "https://localhost:8080/"
        },
        "id": "EFlgJsVZof6Q",
        "outputId": "220f32dc-192b-411c-cbc2-d8dae76a04b2"
      },
      "execution_count": null,
      "outputs": [
        {
          "output_type": "execute_result",
          "data": {
            "text/plain": [
              "0          Setosa\n",
              "1          Setosa\n",
              "2          Setosa\n",
              "3          Setosa\n",
              "4          Setosa\n",
              "          ...    \n",
              "145     Verginica\n",
              "146     Verginica\n",
              "147     Verginica\n",
              "148     Verginica\n",
              "149     Verginica\n",
              "Name: class, Length: 150, dtype: object"
            ]
          },
          "metadata": {},
          "execution_count": 16
        }
      ]
    },
    {
      "cell_type": "markdown",
      "source": [
        "# Divisão entre previsores de class"
      ],
      "metadata": {
        "id": "k-C9ZuoBfuje"
      }
    },
    {
      "cell_type": "code",
      "source": [
        "previsores.columns"
      ],
      "metadata": {
        "colab": {
          "base_uri": "https://localhost:8080/"
        },
        "id": "GrYYcJ-ljr9B",
        "outputId": "ae3bfe4a-09a7-446b-fe04-a92744448167"
      },
      "execution_count": null,
      "outputs": [
        {
          "output_type": "execute_result",
          "data": {
            "text/plain": [
              "Index(['Petal_width', 'Petal_length', 'Sepal_width', 'Sepal_length'], dtype='object')"
            ]
          },
          "metadata": {},
          "execution_count": 17
        }
      ]
    },
    {
      "cell_type": "code",
      "source": [
        "x_previsores = previsores.values\n",
        "y_classe = classe.values"
      ],
      "metadata": {
        "id": "3emSlIUGkH0_"
      },
      "execution_count": null,
      "outputs": []
    },
    {
      "cell_type": "code",
      "source": [
        "x_previsores"
      ],
      "metadata": {
        "colab": {
          "base_uri": "https://localhost:8080/"
        },
        "id": "UBcAKNh4fwSU",
        "outputId": "85792c56-9838-4641-a386-4103ae73283c"
      },
      "execution_count": null,
      "outputs": [
        {
          "output_type": "execute_result",
          "data": {
            "text/plain": [
              "array([['0.2', '1.4', '3.5', '5.1'],\n",
              "       ['0.2', '1.4', '3', '4.9'],\n",
              "       ['0.2', '1.3', '3.2', '4.7'],\n",
              "       ['0.2', '1.5', '3.1', '4.6'],\n",
              "       ['0.2', '1.4', '3.6', '5'],\n",
              "       ['0.4', '1.7', '3.9', '5.4'],\n",
              "       ['0.3', '1.4', '3.4', '4.6'],\n",
              "       ['0.2', '1.5', '3.4', '5'],\n",
              "       ['0.2', '1.4', '2.9', '4.4'],\n",
              "       ['0.1', '1.5', '3.1', '4.9'],\n",
              "       ['0.2', '1.5', '3.7', '5.4'],\n",
              "       ['0.2', '1.6', '3.4', '4.8'],\n",
              "       ['0.1', '1.4', '3', '4.8'],\n",
              "       ['0.1', '1.1', '3', '4.3'],\n",
              "       ['0.2', '1.2', '4', '5.8'],\n",
              "       ['0.4', '1.5', '4.4', '5.7'],\n",
              "       ['0.4', '1.3', '3.9', '5.4'],\n",
              "       ['0.3', '1.4', '3.5', '5.1'],\n",
              "       ['0.3', '1.7', '3.8', '5.7'],\n",
              "       ['0.3', '1.5', '3.8', '5.1'],\n",
              "       ['0.2', '1.7', '3.4', '5.4'],\n",
              "       ['0.4', '1.5', '3.7', '5.1'],\n",
              "       ['0.2', '1', '3.6', '4.6'],\n",
              "       ['0.5', '1.7', '3.3', '5.1'],\n",
              "       ['0.2', '1.9', '3.4', '4.8'],\n",
              "       ['0.2', '1.6', '3', '5'],\n",
              "       ['0.4', '1.6', '3.4', '5'],\n",
              "       ['0.2', '1.5', '3.5', '5.2'],\n",
              "       ['0.2', '1.4', '3.4', '5.2'],\n",
              "       ['0.2', '1.6', '3.2', '4.7'],\n",
              "       ['0.2', '1.6', '3.1', '4.8'],\n",
              "       ['0.4', '1.5', '3.4', '5.4'],\n",
              "       ['0.1', '1.5', '4.1', '5.2'],\n",
              "       ['0.2', '1.4', '4.2', '5.5'],\n",
              "       ['0.2', '1.5', '3.1', '4.9'],\n",
              "       ['0.2', '1.2', '3.2', '5'],\n",
              "       ['0.2', '1.3', '3.5', '5.5'],\n",
              "       ['0.1', '1.4', '3.6', '4.9'],\n",
              "       ['0.2', '1.3', '3', '4.4'],\n",
              "       ['0.2', '1.5', '3.4', '5.1'],\n",
              "       ['0.3', '1.3', '3.5', '5'],\n",
              "       ['0.3', '1.3', '2.3', '4.5'],\n",
              "       ['0.2', '1.3', '3.2', '4.4'],\n",
              "       ['0.6', '1.6', '3.5', '5'],\n",
              "       ['0.4', '1.9', '3.8', '5.1'],\n",
              "       ['0.3', '1.4', '3', '4.8'],\n",
              "       ['0.2', '1.6', '3.8', '5.1'],\n",
              "       ['0.2', '1.4', '3.2', '4.6'],\n",
              "       ['0.2', '1.5', '3.7', '5.3'],\n",
              "       ['0.2', '1.4', '3.3', '5'],\n",
              "       ['1.4', '4.7', '3.2', '7'],\n",
              "       ['1.5', '4.5', '3.2', '6.4'],\n",
              "       ['1.5', '4.9', '3.1', '6.9'],\n",
              "       ['1.3', '4', '2.3', '5.5'],\n",
              "       ['1.5', '4.6', '2.8', '6.5'],\n",
              "       ['1.3', '4.5', '2.8', '5.7'],\n",
              "       ['1.6', '4.7', '3.3', '6.3'],\n",
              "       ['1', '3.3', '2.4', '4.9'],\n",
              "       ['1.3', '4.6', '2.9', '6.6'],\n",
              "       ['1.4', '3.9', '2.7', '5.2'],\n",
              "       ['1', '3.5', '2', '5'],\n",
              "       ['1.5', '4.2', '3', '5.9'],\n",
              "       ['1', '4', '2.2', '6'],\n",
              "       ['1.4', '4.7', '2.9', '6.1'],\n",
              "       ['1.3', '3.6', '2.9', '5.6'],\n",
              "       ['1.4', '4.4', '3.1', '6.7'],\n",
              "       ['1.5', '4.5', '3', '5.6'],\n",
              "       ['1', '4.1', '2.7', '5.8'],\n",
              "       ['1.5', '4.5', '2.2', '6.2'],\n",
              "       ['1.1', '3.9', '2.5', '5.6'],\n",
              "       ['1.8', '4.8', '3.2', '5.9'],\n",
              "       ['1.3', '4', '2.8', '6.1'],\n",
              "       ['1.5', '4.9', '2.5', '6.3'],\n",
              "       ['1.2', '4.7', '2.8', '6.1'],\n",
              "       ['1.3', '4.3', '2.9', '6.4'],\n",
              "       ['1.4', '4.4', '3', '6.6'],\n",
              "       ['1.4', '4.8', '2.8', '6.8'],\n",
              "       ['1.7', '5', '3', '6.7'],\n",
              "       ['1.5', '4.5', '2.9', '6'],\n",
              "       ['1', '3.5', '2.6', '5.7'],\n",
              "       ['1.1', '3.8', '2.4', '5.5'],\n",
              "       ['1', '3.7', '2.4', '5.5'],\n",
              "       ['1.2', '3.9', '2.7', '5.8'],\n",
              "       ['1.6', '5.1', '2.7', '6'],\n",
              "       ['1.5', '4.5', '3', '5.4'],\n",
              "       ['1.6', '4.5', '3.4', '6'],\n",
              "       ['1.5', '4.7', '3.1', '6.7'],\n",
              "       ['1.3', '4.4', '2.3', '6.3'],\n",
              "       ['1.3', '4.1', '3', '5.6'],\n",
              "       ['1.3', '4', '2.5', '5.5'],\n",
              "       ['1.2', '4.4', '2.6', '5.5'],\n",
              "       ['1.4', '4.6', '3', '6.1'],\n",
              "       ['1.2', '4', '2.6', '5.8'],\n",
              "       ['1', '3.3', '2.3', '5'],\n",
              "       ['1.3', '4.2', '2.7', '5.6'],\n",
              "       ['1.2', '4.2', '3', '5.7'],\n",
              "       ['1.3', '4.2', '2.9', '5.7'],\n",
              "       ['1.3', '4.3', '2.9', '6.2'],\n",
              "       ['1.1', '3', '2.5', '5.1'],\n",
              "       ['1.3', '4.1', '2.8', '5.7'],\n",
              "       ['2.5', '6', '3.3', '6.3'],\n",
              "       ['1.9', '5.1', '2.7', '5.8'],\n",
              "       ['2.1', '5.9', '3', '7.1'],\n",
              "       ['1.8', '5.6', '2.9', '6.3'],\n",
              "       ['2.2', '5.8', '3', '6.5'],\n",
              "       ['2.1', '6.6', '3', '7.6'],\n",
              "       ['1.7', '4.5', '2.5', '4.9'],\n",
              "       ['1.8', '6.3', '2.9', '7.3'],\n",
              "       ['1.8', '5.8', '2.5', '6.7'],\n",
              "       ['2.5', '6.1', '3.6', '7.2'],\n",
              "       ['2', '5.1', '3.2', '6.5'],\n",
              "       ['1.9', '5.3', '2.7', '6.4'],\n",
              "       ['2.1', '5.5', '3', '6.8'],\n",
              "       ['2', '5', '2.5', '5.7'],\n",
              "       ['2.4', '5.1', '2.8', '5.8'],\n",
              "       ['2.3', '5.3', '3.2', '6.4'],\n",
              "       ['1.8', '5.5', '3', '6.5'],\n",
              "       ['2.2', '6.7', '3.8', '7.7'],\n",
              "       ['2.3', '6.9', '2.6', '7.7'],\n",
              "       ['1.5', '5', '2.2', '6'],\n",
              "       ['2.3', '5.7', '3.2', '6.9'],\n",
              "       ['2', '4.9', '2.8', '5.6'],\n",
              "       ['2', '6.7', '2.8', '7.7'],\n",
              "       ['1.8', '4.9', '2.7', '6.3'],\n",
              "       ['2.1', '5.7', '3.3', '6.7'],\n",
              "       ['1.8', '6', '3.2', '7.2'],\n",
              "       ['1.8', '4.8', '2.8', '6.2'],\n",
              "       ['1.8', '4.9', '3', '6.1'],\n",
              "       ['2.1', '5.6', '2.8', '6.4'],\n",
              "       ['1.6', '5.8', '3', '7.2'],\n",
              "       ['1.9', '6.1', '2.8', '7.4'],\n",
              "       ['2', '6.4', '3.8', '7.9'],\n",
              "       ['2.2', '5.6', '2.8', '6.4'],\n",
              "       ['1.5', '5.1', '2.8', '6.3'],\n",
              "       ['1.4', '5.6', '2.6', '6.1'],\n",
              "       ['2.3', '6.1', '3', '7.7'],\n",
              "       ['2.4', '5.6', '3.4', '6.3'],\n",
              "       ['1.8', '5.5', '3.1', '6.4'],\n",
              "       ['1.8', '4.8', '3', '6'],\n",
              "       ['2.1', '5.4', '3.1', '6.9'],\n",
              "       ['2.4', '5.6', '3.1', '6.7'],\n",
              "       ['2.3', '5.1', '3.1', '6.9'],\n",
              "       ['1.9', '5.1', '2.7', '5.8'],\n",
              "       ['2.3', '5.9', '3.2', '6.8'],\n",
              "       ['2.5', '5.7', '3.3', '6.7'],\n",
              "       ['2.3', '5.2', '3', '6.7'],\n",
              "       ['1.9', '5', '2.5', '6.3'],\n",
              "       ['2', '5.2', '3', '6.5'],\n",
              "       ['2.3', '5.4', '3.4', '6.2'],\n",
              "       ['1.8', '5.1', '3', '5.9']], dtype=object)"
            ]
          },
          "metadata": {},
          "execution_count": 19
        }
      ]
    },
    {
      "cell_type": "code",
      "source": [
        "x_previsores[0]"
      ],
      "metadata": {
        "colab": {
          "base_uri": "https://localhost:8080/"
        },
        "id": "EeubCY31knxU",
        "outputId": "e65be090-3faf-4a4c-b6ac-4920a280e48e"
      },
      "execution_count": null,
      "outputs": [
        {
          "output_type": "execute_result",
          "data": {
            "text/plain": [
              "array(['0.2', '1.4', '3.5', '5.1'], dtype=object)"
            ]
          },
          "metadata": {},
          "execution_count": 20
        }
      ]
    },
    {
      "cell_type": "code",
      "source": [
        "y_classe"
      ],
      "metadata": {
        "colab": {
          "base_uri": "https://localhost:8080/"
        },
        "id": "ciANNYq5wtdJ",
        "outputId": "df3c1170-8c10-421e-b86d-4e84470631c3"
      },
      "execution_count": null,
      "outputs": [
        {
          "output_type": "execute_result",
          "data": {
            "text/plain": [
              "array([' Setosa', ' Setosa', ' Setosa', ' Setosa', ' Setosa', ' Setosa',\n",
              "       ' Setosa', ' Setosa', ' Setosa', ' Setosa', ' Setosa', ' Setosa',\n",
              "       ' Setosa', ' Setosa', ' Setosa', ' Setosa', ' Setosa', ' Setosa',\n",
              "       ' Setosa', ' Setosa', ' Setosa', ' Setosa', ' Setosa', ' Setosa',\n",
              "       ' Setosa', ' Setosa', ' Setosa', ' Setosa', ' Setosa', ' Setosa',\n",
              "       ' Setosa', ' Setosa', ' Setosa', ' Setosa', ' Setosa', ' Setosa',\n",
              "       ' Setosa', ' Setosa', ' Setosa', ' Setosa', ' Setosa', ' Setosa',\n",
              "       ' Setosa', ' Setosa', ' Setosa', ' Setosa', ' Setosa', ' Setosa',\n",
              "       ' Setosa', ' Setosa', ' Versicolor', ' Versicolor', ' Versicolor',\n",
              "       ' Versicolor', ' Versicolor', ' Versicolor', ' Versicolor',\n",
              "       ' Versicolor', ' Versicolor', ' Versicolor', ' Versicolor',\n",
              "       ' Versicolor', ' Versicolor', ' Versicolor', ' Versicolor',\n",
              "       ' Versicolor', ' Versicolor', ' Versicolor', ' Versicolor',\n",
              "       ' Versicolor', ' Versicolor', ' Versicolor', ' Versicolor',\n",
              "       ' Versicolor', ' Versicolor', ' Versicolor', ' Versicolor',\n",
              "       ' Versicolor', ' Versicolor', ' Versicolor', ' Versicolor',\n",
              "       ' Versicolor', ' Versicolor', ' Versicolor', ' Versicolor',\n",
              "       ' Versicolor', ' Versicolor', ' Versicolor', ' Versicolor',\n",
              "       ' Versicolor', ' Versicolor', ' Versicolor', ' Versicolor',\n",
              "       ' Versicolor', ' Versicolor', ' Versicolor', ' Versicolor',\n",
              "       ' Versicolor', ' Versicolor', ' Versicolor', ' Verginica',\n",
              "       ' Verginica', ' Verginica', ' Verginica', ' Verginica',\n",
              "       ' Verginica', ' Verginica', ' Verginica', ' Verginica',\n",
              "       ' Verginica', ' Verginica', ' Verginica', ' Verginica',\n",
              "       ' Verginica', ' Verginica', ' Verginica', ' Verginica',\n",
              "       ' Verginica', ' Verginica', ' Verginica', ' Verginica',\n",
              "       ' Verginica', ' Verginica', ' Verginica', ' Verginica',\n",
              "       ' Verginica', ' Verginica', ' Verginica', ' Verginica',\n",
              "       ' Verginica', ' Verginica', ' Verginica', ' Verginica',\n",
              "       ' Verginica', ' Verginica', ' Verginica', ' Verginica',\n",
              "       ' Verginica', ' Verginica', ' Verginica', ' Verginica',\n",
              "       ' Verginica', ' Verginica', ' Verginica', ' Verginica',\n",
              "       ' Verginica', ' Verginica', ' Verginica', ' Verginica',\n",
              "       ' Verginica'], dtype=object)"
            ]
          },
          "metadata": {},
          "execution_count": 21
        }
      ]
    },
    {
      "cell_type": "markdown",
      "source": [
        "# Treinamento"
      ],
      "metadata": {
        "id": "4QlW5n0I579K"
      }
    },
    {
      "cell_type": "code",
      "source": [
        "x_treino, x_teste, y_treino, y_teste = train_test_split(x_previsores, y_classe, test_size = 0.3, random_state = 42)"
      ],
      "metadata": {
        "id": "pXtss-npc1G6"
      },
      "execution_count": 50,
      "outputs": []
    },
    {
      "cell_type": "code",
      "source": [
        "modelo = GaussianNB()\n",
        "modelo.fit(x_treino, y_treino)"
      ],
      "metadata": {
        "colab": {
          "base_uri": "https://localhost:8080/"
        },
        "id": "cesvJOfz5_BX",
        "outputId": "213ce7fd-6ba1-4c09-9460-532be70dc08f"
      },
      "execution_count": 51,
      "outputs": [
        {
          "output_type": "execute_result",
          "data": {
            "text/plain": [
              "GaussianNB()"
            ]
          },
          "metadata": {},
          "execution_count": 51
        }
      ]
    },
    {
      "cell_type": "code",
      "source": [
        "treino_teste_y = modelo.predict(x_treino)\n",
        "matriz = confusion_matrix(y_treino, treino_teste_y)\n",
        "treino_teste_y"
      ],
      "metadata": {
        "id": "yupO7BdQ7fhC",
        "colab": {
          "base_uri": "https://localhost:8080/"
        },
        "outputId": "112d0566-e6c5-4e0f-c0c4-92491f0599fc"
      },
      "execution_count": 62,
      "outputs": [
        {
          "output_type": "execute_result",
          "data": {
            "text/plain": [
              "array([' Versicolor', ' Versicolor', ' Verginica', ' Versicolor',\n",
              "       ' Verginica', ' Versicolor', ' Verginica', ' Versicolor',\n",
              "       ' Setosa', ' Verginica', ' Versicolor', ' Setosa', ' Setosa',\n",
              "       ' Setosa', ' Versicolor', ' Verginica', ' Setosa', ' Setosa',\n",
              "       ' Setosa', ' Versicolor', ' Setosa', ' Versicolor', ' Verginica',\n",
              "       ' Setosa', ' Versicolor', ' Verginica', ' Setosa', ' Verginica',\n",
              "       ' Verginica', ' Versicolor', ' Versicolor', ' Verginica',\n",
              "       ' Versicolor', ' Setosa', ' Versicolor', ' Verginica', ' Setosa',\n",
              "       ' Setosa', ' Versicolor', ' Verginica', ' Setosa', ' Verginica',\n",
              "       ' Setosa', ' Setosa', ' Verginica', ' Versicolor', ' Verginica',\n",
              "       ' Versicolor', ' Verginica', ' Verginica', ' Versicolor',\n",
              "       ' Setosa', ' Setosa', ' Versicolor', ' Verginica', ' Setosa',\n",
              "       ' Setosa', ' Setosa', ' Versicolor', ' Verginica', ' Setosa',\n",
              "       ' Verginica', ' Verginica', ' Setosa', ' Versicolor',\n",
              "       ' Versicolor', ' Verginica', ' Versicolor', ' Verginica',\n",
              "       ' Setosa', ' Verginica', ' Versicolor', ' Verginica',\n",
              "       ' Versicolor', ' Versicolor', ' Versicolor', ' Setosa',\n",
              "       ' Versicolor', ' Versicolor', ' Setosa', ' Versicolor',\n",
              "       ' Verginica', ' Verginica', ' Setosa', ' Versicolor', ' Verginica',\n",
              "       ' Verginica', ' Setosa', ' Verginica', ' Setosa', ' Verginica',\n",
              "       ' Verginica', ' Verginica', ' Versicolor', ' Verginica',\n",
              "       ' Versicolor', ' Versicolor', ' Verginica', ' Verginica',\n",
              "       ' Setosa', ' Versicolor', ' Versicolor', ' Setosa', ' Versicolor',\n",
              "       ' Verginica'], dtype='<U11')"
            ]
          },
          "metadata": {},
          "execution_count": 62
        }
      ]
    },
    {
      "cell_type": "code",
      "source": [
        "y_treino.shape"
      ],
      "metadata": {
        "colab": {
          "base_uri": "https://localhost:8080/"
        },
        "id": "e8sg8olavTZ_",
        "outputId": "0e49a644-9327-421f-b664-b03cf2ee61fa"
      },
      "execution_count": 61,
      "outputs": [
        {
          "output_type": "execute_result",
          "data": {
            "text/plain": [
              "(105,)"
            ]
          },
          "metadata": {},
          "execution_count": 61
        }
      ]
    },
    {
      "cell_type": "markdown",
      "source": [
        "# Apresentação dos resultados"
      ],
      "metadata": {
        "id": "bM53Qwnd8AJ5"
      }
    },
    {
      "cell_type": "code",
      "source": [
        "sns.heatmap(matriz.T, square=True, annot=True)\n",
        "plt.xlabel('Previsão');\n",
        "plt.ylabel('Estimado');\n",
        "\n",
        "print(classification_report(y_treino, treino_teste_y)) "
      ],
      "metadata": {
        "colab": {
          "base_uri": "https://localhost:8080/",
          "height": 459
        },
        "id": "5mRwp6hn8FdW",
        "outputId": "12de5c9a-08e1-48c8-83cb-a0867674e784"
      },
      "execution_count": 63,
      "outputs": [
        {
          "output_type": "stream",
          "name": "stdout",
          "text": [
            "              precision    recall  f1-score   support\n",
            "\n",
            "      Setosa       1.00      1.00      1.00        31\n",
            "   Verginica       0.92      0.92      0.92        37\n",
            "  Versicolor       0.92      0.92      0.92        37\n",
            "\n",
            "    accuracy                           0.94       105\n",
            "   macro avg       0.95      0.95      0.95       105\n",
            "weighted avg       0.94      0.94      0.94       105\n",
            "\n"
          ]
        },
        {
          "output_type": "display_data",
          "data": {
            "text/plain": [
              "<Figure size 432x288 with 2 Axes>"
            ],
            "image/png": "[encoded data removed]"
          },
          "metadata": {}
        }
      ]
    },
    {
      "cell_type": "markdown",
      "source": [
        "# PREVISÃO"
      ],
      "metadata": {
        "id": "dZZKlnJfEJXE"
      }
    },
    {
      "cell_type": "code",
      "source": [
        "def verifique(digito):\n",
        "  valor = 0\n",
        "  ehnumero = False\n",
        "\n",
        "  while ehnumero == False:\n",
        "    \n",
        "      teste = str(input(digito))\n",
        "      if teste.replace(\".\", \"\").isdigit():\n",
        "        valor = float(teste)\n",
        "        ehnumero = True\n",
        "      else:\n",
        "        print(\"\\033[0;31m ERROR!! Digite um número válido: \\033[m\")\n",
        "        ehnumero = False\n",
        "        continue\n",
        "      return valor\n",
        "      \n",
        "\n",
        "\n",
        "larg_petala = verifique(\"Digite a largura da Pétala: \")\n",
        "alt_petala = verifique(\"Digite a altura da Pétala: \")\n",
        "larg_sepala = verifique(\"Digite a largura da Sépala: \")\n",
        "alt_sepala = verifique(\"Digite a altura da Sépala: \")\n",
        "\n",
        "    "
      ],
      "metadata": {
        "id": "4wNwYT04F46q",
        "colab": {
          "base_uri": "https://localhost:8080/"
        },
        "outputId": "51f013cc-cdbe-4445-a04e-b827e0d091f9"
      },
      "execution_count": 64,
      "outputs": [
        {
          "name": "stdout",
          "output_type": "stream",
          "text": [
            "Digite a largura da Pétala: 1.5\n",
            "Digite a altura da Pétala: 2.4\n",
            "Digite a largura da Sépala: 3.3\n",
            "Digite a altura da Sépala: 5.1\n"
          ]
        }
      ]
    },
    {
      "cell_type": "code",
      "source": [
        "previsao =  modelo.predict([[larg_petala, alt_petala, larg_sepala, alt_sepala]])\n",
        "print(previsao)"
      ],
      "metadata": {
        "colab": {
          "base_uri": "https://localhost:8080/"
        },
        "id": "-LyV7bS2ERxC",
        "outputId": "84fdee51-9786-4173-d19d-150f5848d9c3"
      },
      "execution_count": 65,
      "outputs": [
        {
          "output_type": "stream",
          "name": "stdout",
          "text": [
            "[' Versicolor']\n"
          ]
        }
      ]
    }
  ]
}